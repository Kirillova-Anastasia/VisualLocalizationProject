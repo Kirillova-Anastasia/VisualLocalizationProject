{
 "cells": [
  {
   "cell_type": "code",
   "execution_count": 1,
   "id": "28338980",
   "metadata": {},
   "outputs": [
    {
     "ename": "AttributeError",
     "evalue": "module 'faiss' has no attribute 'StandardGpuResources'",
     "output_type": "error",
     "traceback": [
      "\u001b[0;31m---------------------------------------------------------------------------\u001b[0m",
      "\u001b[0;31mAttributeError\u001b[0m                            Traceback (most recent call last)",
      "\u001b[0;32m/tmp/ipykernel_6985/1553643910.py\u001b[0m in \u001b[0;36m<module>\u001b[0;34m\u001b[0m\n\u001b[1;32m     16\u001b[0m \u001b[0;32mimport\u001b[0m \u001b[0mtorchvision\u001b[0m\u001b[0;34m\u001b[0m\u001b[0;34m\u001b[0m\u001b[0m\n\u001b[1;32m     17\u001b[0m \u001b[0;32mimport\u001b[0m \u001b[0mfaiss\u001b[0m\u001b[0;34m\u001b[0m\u001b[0;34m\u001b[0m\u001b[0m\n\u001b[0;32m---> 18\u001b[0;31m \u001b[0;32mimport\u001b[0m \u001b[0mtest\u001b[0m\u001b[0;34m\u001b[0m\u001b[0;34m\u001b[0m\u001b[0m\n\u001b[0m\u001b[1;32m     19\u001b[0m \u001b[0;32mimport\u001b[0m \u001b[0mlogging\u001b[0m\u001b[0;34m\u001b[0m\u001b[0;34m\u001b[0m\u001b[0m\n\u001b[1;32m     20\u001b[0m \u001b[0;32mimport\u001b[0m \u001b[0mnumpy\u001b[0m \u001b[0;32mas\u001b[0m \u001b[0mnp\u001b[0m\u001b[0;34m\u001b[0m\u001b[0;34m\u001b[0m\u001b[0m\n",
      "\u001b[0;32m/app/VisualLocalizationProject/test.py\u001b[0m in \u001b[0;36m<module>\u001b[0;34m\u001b[0m\n\u001b[1;32m      7\u001b[0m \u001b[0;32mfrom\u001b[0m \u001b[0mtorch\u001b[0m\u001b[0;34m.\u001b[0m\u001b[0mutils\u001b[0m\u001b[0;34m.\u001b[0m\u001b[0mdata\u001b[0m\u001b[0;34m.\u001b[0m\u001b[0mdataset\u001b[0m \u001b[0;32mimport\u001b[0m \u001b[0mSubset\u001b[0m\u001b[0;34m\u001b[0m\u001b[0;34m\u001b[0m\u001b[0m\n\u001b[1;32m      8\u001b[0m \u001b[0;34m\u001b[0m\u001b[0m\n\u001b[0;32m----> 9\u001b[0;31m \u001b[0mres\u001b[0m \u001b[0;34m=\u001b[0m \u001b[0mfaiss\u001b[0m\u001b[0;34m.\u001b[0m\u001b[0mStandardGpuResources\u001b[0m\u001b[0;34m(\u001b[0m\u001b[0;34m)\u001b[0m\u001b[0;34m\u001b[0m\u001b[0;34m\u001b[0m\u001b[0m\n\u001b[0m\u001b[1;32m     10\u001b[0m \u001b[0;34m\u001b[0m\u001b[0m\n\u001b[1;32m     11\u001b[0m \u001b[0mfeatures_dim\u001b[0m \u001b[0;34m=\u001b[0m \u001b[0;36m256\u001b[0m\u001b[0;34m\u001b[0m\u001b[0;34m\u001b[0m\u001b[0m\n",
      "\u001b[0;31mAttributeError\u001b[0m: module 'faiss' has no attribute 'StandardGpuResources'"
     ]
    }
   ],
   "source": [
    "import math\n",
    "import os\n",
    "import torch\n",
    "import logging\n",
    "import numpy as np\n",
    "from tqdm import tqdm\n",
    "import torch.nn as nn\n",
    "import multiprocessing\n",
    "from os.path import join\n",
    "from datetime import datetime\n",
    "import torchvision.transforms as transforms\n",
    "from torch.utils.data.dataloader import DataLoader\n",
    "import datasets_ws\n",
    "import math\n",
    "import torch\n",
    "import torchvision\n",
    "import faiss\n",
    "import test\n",
    "import logging\n",
    "import numpy as np\n",
    "from tqdm.notebook import tqdm\n",
    "import torch.nn as nn\n",
    "import matplotlib.pyplot as plt\n",
    "import torch.nn.functional as F\n",
    "from torch.nn.parameter import Parameter\n",
    "from torch.utils.data import DataLoader, SubsetRandomSampler\n",
    "from IPython.display import clear_output\n",
    "import warnings\n",
    "warnings.filterwarnings('ignore')"
   ]
  },
  {
   "cell_type": "code",
   "execution_count": 2,
   "id": "43115dd5-4921-4896-b4e4-09a53c82df8e",
   "metadata": {},
   "outputs": [],
   "source": [
    "# !pip3 install torch torchvision torchaudio --extra-index-url https://download.pytorch.org/whl/cu116"
   ]
  },
  {
   "cell_type": "code",
   "execution_count": null,
   "id": "ad620f64-af20-443e-90ca-00493f94be24",
   "metadata": {},
   "outputs": [],
   "source": [
    "\n"
   ]
  },
  {
   "cell_type": "code",
   "execution_count": 3,
   "id": "c4dff8c6-0aa5-481a-8f35-ffda6af7df36",
   "metadata": {},
   "outputs": [],
   "source": [
    "%load_ext autoreload\n",
    "%autoreload 2"
   ]
  },
  {
   "cell_type": "code",
   "execution_count": 4,
   "id": "c8ef7eac",
   "metadata": {},
   "outputs": [
    {
     "name": "stdout",
     "output_type": "stream",
     "text": [
      "cuda\n"
     ]
    }
   ],
   "source": [
    "device = torch.device(\"cuda\" if torch.cuda.is_available() else \"cpu\")\n",
    "print(device)"
   ]
  },
  {
   "cell_type": "code",
   "execution_count": null,
   "id": "25f1f04c-21e8-43b1-bbff-2a7f2d6452ba",
   "metadata": {},
   "outputs": [],
   "source": []
  },
  {
   "cell_type": "code",
   "execution_count": 5,
   "id": "781a4c7f",
   "metadata": {},
   "outputs": [],
   "source": [
    "triplets_ds = datasets_ws.TripletsDataset(\"D:/datasets/\", 'pitts30k/', \"train\", negs_num_per_query = 10)\n",
    "val_ds = datasets_ws.BaseDataset(\"D:/datasets/\", 'pitts30k/', \"val\")\n",
    "test_ds = datasets_ws.BaseDataset(\"D:/datasets/\", 'pitts30k/', \"test\")"
   ]
  },
  {
   "cell_type": "code",
   "execution_count": 6,
   "id": "e33bc104",
   "metadata": {},
   "outputs": [],
   "source": [
    "class NetVLAD(nn.Module):\n",
    "    \"\"\"NetVLAD layer implementation\"\"\"\n",
    "\n",
    "    def __init__(self, clusters_num=64, dim=128, normalize_input=True, work_with_tokens=False):\n",
    "        \"\"\"\n",
    "        Args:\n",
    "            clusters_num : int\n",
    "                The number of clusters\n",
    "            dim : int\n",
    "                Dimension of descriptors\n",
    "            alpha : float\n",
    "                Parameter of initialization. Larger value is harder assignment.\n",
    "            normalize_input : bool\n",
    "                If true, descriptor-wise L2 normalization is applied to input.\n",
    "        \"\"\"\n",
    "        super().__init__()\n",
    "        self.clusters_num = clusters_num\n",
    "        self.dim = dim\n",
    "        self.alpha = 0\n",
    "        self.normalize_input = normalize_input\n",
    "        self.work_with_tokens = work_with_tokens\n",
    "        if work_with_tokens:\n",
    "            self.conv = nn.Conv1d(dim, clusters_num, kernel_size=1, bias=False)\n",
    "        else:\n",
    "            self.conv = nn.Conv2d(dim, clusters_num, kernel_size=(1, 1), bias=False)\n",
    "        self.centroids = nn.Parameter(torch.rand(clusters_num, dim))\n",
    "\n",
    "    def init_params(self, centroids, descriptors):\n",
    "        centroids_assign = centroids / np.linalg.norm(centroids, axis=1, keepdims=True)\n",
    "        dots = np.dot(centroids_assign, descriptors.T)\n",
    "        dots.sort(0)\n",
    "        dots = dots[::-1, :]\n",
    "\n",
    "        self.alpha = (-np.log(0.01) / np.mean(dots[0,:] - dots[1,:])).item()\n",
    "        self.centroids = nn.Parameter(torch.from_numpy(centroids))\n",
    "        if self.work_with_tokens:\n",
    "            self.conv.weight = nn.Parameter(torch.from_numpy(self.alpha * centroids_assign).unsqueeze(2))\n",
    "        else:\n",
    "            self.conv.weight = nn.Parameter(torch.from_numpy(self.alpha*centroids_assign).unsqueeze(2).unsqueeze(3))\n",
    "        self.conv.bias = None\n",
    "\n",
    "    def forward(self, x):\n",
    "        if self.work_with_tokens:\n",
    "            x = x.permute(0, 2, 1)\n",
    "            N, D, _ = x.shape[:]\n",
    "        else:\n",
    "            N, D, H, W = x.shape[:]\n",
    "        if self.normalize_input:\n",
    "            x = F.normalize(x, p=2, dim=1)  # Across descriptor dim\n",
    "        x_flatten = x.view(N, D, -1)\n",
    "        # print(f': x.shape : {x.size()}')\n",
    "        # print(f'conv(x) size = {self.conv(x).size()}')\n",
    "        soft_assign = self.conv(x).view(N, self.clusters_num, -1)\n",
    "        soft_assign = F.softmax(soft_assign, dim=1)\n",
    "        vlad = torch.zeros([N, self.clusters_num, D], dtype=x_flatten.dtype, device=x_flatten.device)\n",
    "        for D in range(self.clusters_num):  # Slower than non-looped, but lower memory usage\n",
    "            residual = x_flatten.unsqueeze(0).permute(1, 0, 2, 3) - \\\n",
    "                    self.centroids[D:D+1, :].expand(x_flatten.size(-1), -1, -1).permute(1, 2, 0).unsqueeze(0)\n",
    "            residual = residual * soft_assign[:,D:D+1,:].unsqueeze(2)\n",
    "            vlad[:,D:D+1,:] = residual.sum(dim=-1)\n",
    "        vlad = F.normalize(vlad, p=2, dim=2)  # intra-normalization\n",
    "        vlad = vlad.view(N, -1)  # Flatten\n",
    "        vlad = F.normalize(vlad, p=2, dim=1)  # L2 normalize\n",
    "        return vlad\n",
    "\n",
    "    def initialize_netvlad_layer(self, cluster_ds, backbone):\n",
    "        descriptors_num = 100000\n",
    "        descs_num_per_image = 100\n",
    "        images_num = math.ceil(descriptors_num / descs_num_per_image)\n",
    "        random_sampler = SubsetRandomSampler(np.random.choice(len(cluster_ds), images_num, replace=False))\n",
    "        random_dl = DataLoader(dataset=cluster_ds, \n",
    "                                batch_size=16, sampler=random_sampler)\n",
    "        with torch.no_grad():\n",
    "            backbone = backbone.eval()\n",
    "            # logging.debug(\"Extracting features to initialize NetVLAD layer\")\n",
    "            descriptors = np.zeros(shape=(descriptors_num, features_dim), dtype=np.float32)\n",
    "            for iteration, (inputs, _) in enumerate(tqdm(random_dl, ncols=100)):\n",
    "                inputs = inputs.to(\"cuda\")\n",
    "                outputs = backbone(inputs)\n",
    "                # print(f'outputs: {outputs.size()}')\n",
    "                norm_outputs = F.normalize(outputs, p=2, dim=1)\n",
    "                # print(f'norm_outputs: {norm_outputs.size()}')\n",
    "                # print(f'shape [0] : {norm_outputs.shape[0]}')\n",
    "                image_descriptors = norm_outputs.view(norm_outputs.shape[0], features_dim, -1).permute(0, 2, 1)\n",
    "                image_descriptors = image_descriptors.cpu().numpy()\n",
    "                batchix = iteration * 16 * descs_num_per_image\n",
    "                # print(f'image_descriptors : {image_descriptors.shape}')\n",
    "                for ix in range(image_descriptors.shape[0]):\n",
    "                    sample = np.random.choice(image_descriptors.shape[1], descs_num_per_image, replace=False)\n",
    "                    startix = batchix + ix * descs_num_per_image\n",
    "                    descriptors[startix:startix + descs_num_per_image, :] = image_descriptors[ix, sample, :]\n",
    "        kmeans = faiss.Kmeans(features_dim, self.clusters_num, niter=100, verbose=False)\n",
    "        kmeans.train(descriptors)\n",
    "#         logging.debug(f\"NetVLAD centroids shape: {kmeans.centroids.shape}\")\n",
    "        self.init_params(kmeans.centroids, descriptors)\n",
    "        self = self.to(\"cuda\")"
   ]
  },
  {
   "cell_type": "code",
   "execution_count": 7,
   "id": "d47ec973-7215-4a6e-b677-8952c039963a",
   "metadata": {},
   "outputs": [],
   "source": [
    "def get_output_channels_dim(model):\n",
    "    \"\"\"Return the number of channels in the output of a model.\"\"\"\n",
    "    return model(torch.ones([1, 3, 224, 224])).shape[1]"
   ]
  },
  {
   "cell_type": "code",
   "execution_count": null,
   "id": "2837f7b8-24e5-4964-8f8c-3f96438fe8c1",
   "metadata": {},
   "outputs": [],
   "source": []
  },
  {
   "cell_type": "code",
   "execution_count": 8,
   "id": "2552887c-c276-4340-8318-2abb22b6df4a",
   "metadata": {},
   "outputs": [],
   "source": [
    "def get_backbone(model_name):\n",
    "    # The aggregation layer works differently based on the type of architecture\n",
    "    if model_name.startswith(\"resnet\"):\n",
    "        if 1 == 2:\n",
    "            backbone = get_pretrained_model(args)\n",
    "        elif model_name.startswith(\"resnet18\"):\n",
    "            backbone = torchvision.models.resnet18(pretrained=True)\n",
    "        elif model_name.startswith(\"resnet50\"):\n",
    "            backbone = torchvision.models.resnet50(pretrained=True)\n",
    "        elif model_name.startswith(\"resnet101\"):\n",
    "            backbone = torchvision.models.resnet101(pretrained=True)\n",
    "        for name, child in backbone.named_children():\n",
    "            # Freeze layers before conv_3\n",
    "            if name == \"layer3\":\n",
    "                break\n",
    "            for params in child.parameters():\n",
    "                params.requires_grad = False\n",
    "        if model_name.endswith(\"conv4\"):\n",
    "            # logging.debug(f\"Train only conv4_x of the resnet{args.backbone.split('conv')[0]} (remove conv5_x), freeze the previous ones\")\n",
    "            layers = list(backbone.children())[:-3]\n",
    "        elif model_name.endswith(\"conv5\"):\n",
    "            # logging.debug(f\"Train only conv4_x and conv5_x of the resnet{args.backbone.split('conv')[0]}, freeze the previous ones\")\n",
    "            layers = list(backbone.children())[:-2]\n",
    "    elif model_name == \"vgg16\":\n",
    "        if 1 == 2:\n",
    "            backbone = get_pretrained_model(args)\n",
    "        else:\n",
    "            backbone = torchvision.models.vgg16(pretrained=True)\n",
    "        layers = list(backbone.features.children())[:-2]\n",
    "        for l in layers[:-5]:\n",
    "            for p in l.parameters(): p.requires_grad = False\n",
    "        # logging.debug(\"Train last layers of the vgg16, freeze the previous ones\")\n",
    "    elif model_name == \"alexnet\":\n",
    "        backbone = torchvision.models.alexnet(pretrained=True)\n",
    "        layers = list(backbone.features.children())[:-2]\n",
    "        for l in layers[:5]:\n",
    "            for p in l.parameters(): p.requires_grad = False\n",
    "        # logging.debug(\"Train last layers of the alexnet, freeze the previous ones\")\n",
    "    elif model_name.startswith(\"cct\"):\n",
    "        if model_name.startswith(\"cct384\"):\n",
    "            backbone = cct_14_7x2_384(pretrained=True, progress=True, aggregation=args.aggregation)\n",
    "        if 1 == 2:\n",
    "            # logging.debug(f\"Truncate CCT at transformers encoder {args.trunc_te}\")\n",
    "            backbone.classifier.blocks = torch.nn.ModuleList(backbone.classifier.blocks[:args.trunc_te].children())\n",
    "        if 1 == 2:\n",
    "            # logging.debug(f\"Freeze all the layers up to tranformer encoder {args.freeze_te}\")\n",
    "            for p in backbone.parameters():\n",
    "                p.requires_grad = False\n",
    "            for name, child in backbone.classifier.blocks.named_children():\n",
    "                if int(name) > args.freeze_te:\n",
    "                    for params in child.parameters():\n",
    "                        params.requires_grad = True\n",
    "        features_dim = 384\n",
    "        return backbone\n",
    "    elif model_name.startswith(\"vit\"):\n",
    "        # assert args.resize[0] in [224, 384], f'Image size for ViT must be either 224 or 384, but it\\'s {args.resize[0]}'\n",
    "        if 1 == 2:\n",
    "            backbone = ViTModel.from_pretrained('google/vit-base-patch16-224-in21k')\n",
    "        elif 1 == 384:\n",
    "            backbone = ViTModel.from_pretrained('google/vit-base-patch16-384')\n",
    "\n",
    "        if 1 == 2:\n",
    "            # logging.debug(f\"Truncate ViT at transformers encoder {args.trunc_te}\")\n",
    "            backbone.encoder.layer = backbone.encoder.layer[:args.trunc_te]\n",
    "        if 1 == 2:\n",
    "            logging.debug(f\"Freeze all the layers up to tranformer encoder {args.freeze_te+1}\")\n",
    "            for p in backbone.parameters():\n",
    "                p.requires_grad = False\n",
    "            for name, child in backbone.encoder.layer.named_children():\n",
    "                if 1 == 2:\n",
    "                    for params in child.parameters():\n",
    "                        params.requires_grad = True\n",
    "        backbone = VitWrapper(backbone, args.aggregation)\n",
    "        \n",
    "        features_dim = 768\n",
    "        return backbone\n",
    "\n",
    "    backbone = torch.nn.Sequential(*layers)\n",
    "    features_dim = get_output_channels_dim(backbone)  # Dinamically obtain number of channels in output\n",
    "    # print(features_dim)\n",
    "    return backbone"
   ]
  },
  {
   "cell_type": "code",
   "execution_count": 9,
   "id": "49136e35-692a-4779-8919-1702128eda83",
   "metadata": {},
   "outputs": [],
   "source": [
    "features_dim = 256"
   ]
  },
  {
   "cell_type": "code",
   "execution_count": 10,
   "id": "a1f6f6d3",
   "metadata": {},
   "outputs": [],
   "source": [
    "class GeoLocalizationNet(nn.Module):\n",
    "    \"\"\"The used networks are composed of a backbone and an aggregation layer.\n",
    "    \"\"\"\n",
    "    def __init__(self):\n",
    "        super().__init__()\n",
    "        self.backbone = get_backbone('resnet18conv4')\n",
    "        # self.arch_name = \n",
    "        self.aggregation = NetVLAD(clusters_num=64, dim=features_dim,\n",
    "                                   work_with_tokens=False)\n",
    "    def forward(self, x):\n",
    "        # print(f'size in forward before backbone: {x.size()}')\n",
    "        x = self.backbone(x)\n",
    "        # print(f'size in forward after backbone: {x.size()}')\n",
    "        x = self.aggregation(x)\n",
    "        return x"
   ]
  },
  {
   "cell_type": "code",
   "execution_count": 11,
   "id": "b0d599a7",
   "metadata": {},
   "outputs": [],
   "source": [
    "model = GeoLocalizationNet()\n",
    "model = model.to(\"cuda\")"
   ]
  },
  {
   "cell_type": "code",
   "execution_count": null,
   "id": "8ea9c8dd-4065-48d0-9ebf-19b46068d0fb",
   "metadata": {},
   "outputs": [],
   "source": []
  },
  {
   "cell_type": "code",
   "execution_count": 12,
   "id": "2b736054-a6e0-4c8d-912a-9f4c3673eacf",
   "metadata": {},
   "outputs": [],
   "source": [
    "# get_output_channels_dim(model)"
   ]
  },
  {
   "cell_type": "code",
   "execution_count": 13,
   "id": "69b31e97-8a97-4857-be71-fc927e3a05c4",
   "metadata": {},
   "outputs": [
    {
     "data": {
      "application/vnd.jupyter.widget-view+json": {
       "model_id": "c523681fc9f34f488d3123662f92657e",
       "version_major": 2,
       "version_minor": 0
      },
      "text/plain": [
       "  0%|                                                                        | 0/63 [00:00<?, ?it/s]"
      ]
     },
     "metadata": {},
     "output_type": "display_data"
    }
   ],
   "source": [
    "triplets_ds.is_inference = True\n",
    "model.aggregation.initialize_netvlad_layer(triplets_ds, model.backbone)"
   ]
  },
  {
   "cell_type": "code",
   "execution_count": 14,
   "id": "121abc78-2d77-427f-a5db-73f05d9b9440",
   "metadata": {},
   "outputs": [],
   "source": [
    "optimizer = torch.optim.SGD(model.parameters(), lr=3e-4, momentum=0.9, weight_decay=0.001)\n",
    "criterion_triplet = nn.TripletMarginLoss(margin=0.1, p=2, reduction=\"sum\")"
   ]
  },
  {
   "cell_type": "code",
   "execution_count": 15,
   "id": "8cda10e6-78a0-4e4b-98bf-22e3379a6274",
   "metadata": {},
   "outputs": [
    {
     "data": {
      "image/png": "[encoded data removed]",
      "text/plain": [
       "<Figure size 432x288 with 2 Axes>"
      ]
     },
     "metadata": {
      "needs_background": "light"
     },
     "output_type": "display_data"
    }
   ],
   "source": [
    "epochs = 10\n",
    "\n",
    "\n",
    "batch_losses = []\n",
    "triplet_losses = []\n",
    "rec1 = []\n",
    "rec5 = []\n",
    "\n",
    "best_r5 = start_epoch_num = not_improved_num = 0\n",
    "\n",
    "\n",
    "for epoch in tqdm(range(epochs), desc = \"Epochs\"):\n",
    "    \n",
    "    epoch_losses = np.zeros((0, 1), dtype=np.float32)\n",
    "    \n",
    "    \n",
    "    num_loops = 1\n",
    "    for loop in range(num_loops):\n",
    "        print(f'loop : {loop+1}')\n",
    "        triplets_ds.is_inference = True\n",
    "        triplets_ds.compute_triplets(model)\n",
    "        triplets_ds.is_inference = False\n",
    "        \n",
    "        triplets_dl = DataLoader(dataset=triplets_ds,\n",
    "                                 batch_size=4,\n",
    "                                 collate_fn=datasets_ws.collate_fn,\n",
    "                                 pin_memory=(\"cuda\" == \"cuda\"),\n",
    "                                 drop_last=True)\n",
    "        \n",
    "        model = model.train()\n",
    "        \n",
    "        for images, triplets_local_indexes, _ in tqdm(triplets_dl, desc = 'Batch processing'):\n",
    "            \n",
    "            # Flip all triplets or none\n",
    "            # if args.horizontal_flip:\n",
    "            #     images = transforms.RandomHorizontalFlip()(images)\n",
    "            \n",
    "            # Compute features of all images (images contains queries, positives and negatives)\n",
    "            features = model(images.to(\"cuda\"))\n",
    "            loss_triplet = 0\n",
    "            \n",
    "            # if args.criterion == \"triplet\":\n",
    "            triplets_local_indexes = torch.transpose(\n",
    "                triplets_local_indexes.view(4, 10, 3), 1, 0)\n",
    "            for triplets in triplets_local_indexes:\n",
    "                queries_indexes, positives_indexes, negatives_indexes = triplets.T\n",
    "                loss_triplet += criterion_triplet(features[queries_indexes],\n",
    "                                                  features[positives_indexes],\n",
    "                                                  features[negatives_indexes])\n",
    "            # elif args.criterion == 'sare_joint':\n",
    "            #     # sare_joint needs to receive all the negatives at once\n",
    "            #     triplet_index_batch = triplets_local_indexes.view(args.train_batch_size, 10, 3)\n",
    "            #     for batch_triplet_index in triplet_index_batch:\n",
    "            #         q = features[batch_triplet_index[0, 0]].unsqueeze(0)  # obtain query as tensor of shape 1xn_features\n",
    "            #         p = features[batch_triplet_index[0, 1]].unsqueeze(0)  # obtain positive as tensor of shape 1xn_features\n",
    "            #         n = features[batch_triplet_index[:, 2]]               # obtain negatives as tensor of shape 10xn_features\n",
    "            #         loss_triplet += criterion_triplet(q, p, n)\n",
    "            # elif args.criterion == \"sare_ind\":\n",
    "            #     for triplet in triplets_local_indexes:\n",
    "            #         # triplet is a 1-D tensor with the 3 scalars indexes of the triplet\n",
    "            #         q_i, p_i, n_i = triplet\n",
    "            #         loss_triplet += criterion_triplet(features[q_i:q_i+1], features[p_i:p_i+1], features[n_i:n_i+1])\n",
    "            \n",
    "            del features\n",
    "            loss_triplet /= (4 * 10)\n",
    "            \n",
    "            optimizer.zero_grad()\n",
    "            loss_triplet.backward()\n",
    "            optimizer.step()\n",
    "            \n",
    "            # Keep track of all losses by appending them to epoch_losses\n",
    "            batch_loss = loss_triplet.item()\n",
    "            epoch_losses = np.append(epoch_losses, batch_loss)\n",
    "            \n",
    "            del loss_triplet\n",
    "        triplet_losses.append(epoch_losses.mean())\n",
    "        batch_losses.append(batch_loss)\n",
    "        # print(f\"Batch loss: {batch_loss:.4f}\")\n",
    "        # print(f\"Average triplet loss: {epoch_losses.mean():.4f}\")\n",
    "        \n",
    "        \n",
    "            \n",
    "    recalls, recalls_str = test.test(val_ds, model)\n",
    "    rec1.append(recalls[0])\n",
    "    rec5.append(recalls[1])\n",
    "    clear_output()\n",
    "    fig, (ax0, ax1) = plt.subplots(1, 2)\n",
    "    ax0.set_title('Loss')\n",
    "    ax0.plot(batch_losses, label = 'Batch')\n",
    "    ax0.plot(triplet_losses, label = 'Average Triplet loss')\n",
    "    ax0.set_xlabel('Epoch')\n",
    "    ax0.legend()\n",
    "    ax1.set_title('Recall')\n",
    "    ax1.plot(rec1, label = 'R@1')\n",
    "    ax1.plot(rec5, label = 'R@5')\n",
    "    ax1.set_xlabel('Epoch')\n",
    "    ax1.legend()\n",
    "    plt.legend()\n",
    "    plt.show()\n",
    "    is_best = recalls[1] > best_r5\n",
    "    # print(f\"Recalls on val set {val_ds}: {recalls_str}\")"
   ]
  },
  {
   "cell_type": "code",
   "execution_count": 18,
   "id": "9c150d6b-4eef-49cd-b45a-75be93f780f6",
   "metadata": {},
   "outputs": [
    {
     "data": {
      "application/vnd.jupyter.widget-view+json": {
       "model_id": "10a8b84e91ae4c32b41fe35834d2b69c",
       "version_major": 2,
       "version_minor": 0
      },
      "text/plain": [
       "test 1:   0%|          | 0/625 [00:00<?, ?it/s]"
      ]
     },
     "metadata": {},
     "output_type": "display_data"
    },
    {
     "data": {
      "application/vnd.jupyter.widget-view+json": {
       "model_id": "78d8ac9a113844d9935640a9bf2b44ec",
       "version_major": 2,
       "version_minor": 0
      },
      "text/plain": [
       "test 2:   0%|          | 0/426 [00:00<?, ?it/s]"
      ]
     },
     "metadata": {},
     "output_type": "display_data"
    },
    {
     "data": {
      "application/vnd.jupyter.widget-view+json": {
       "model_id": "7d2fa409f9454831a9e3327d68a671c9",
       "version_major": 2,
       "version_minor": 0
      },
      "text/plain": [
       "Query index:   0%|          | 0/6816 [00:00<?, ?it/s]"
      ]
     },
     "metadata": {},
     "output_type": "display_data"
    }
   ],
   "source": [
    "recalls, recalls_str = test.test( test_ds, model, test_method=\"hard_resize\")"
   ]
  },
  {
   "cell_type": "code",
   "execution_count": 19,
   "id": "334feda7-e692-47fe-aeaa-44a3c7528613",
   "metadata": {},
   "outputs": [
    {
     "name": "stdout",
     "output_type": "stream",
     "text": [
      "R@1: 81.4, R@5: 90.6\n"
     ]
    }
   ],
   "source": [
    "print(recalls_str)"
   ]
  },
  {
   "cell_type": "code",
   "execution_count": 20,
   "id": "f903fda7-6062-4ffb-890f-0ad321e42edc",
   "metadata": {},
   "outputs": [
    {
     "data": {
      "image/png": "[encoded data removed]",
      "text/plain": [
       "<Figure size 432x288 with 2 Axes>"
      ]
     },
     "metadata": {
      "needs_background": "light"
     },
     "output_type": "display_data"
    }
   ],
   "source": [
    "epochs = 20\n",
    "\n",
    "\n",
    "batch_losses = []\n",
    "triplet_losses = []\n",
    "rec1 = []\n",
    "rec5 = []\n",
    "\n",
    "best_r5 = start_epoch_num = not_improved_num = 0\n",
    "\n",
    "\n",
    "for epoch in tqdm(range(epochs), desc = \"Epochs\"):\n",
    "    \n",
    "    epoch_losses = np.zeros((0, 1), dtype=np.float32)\n",
    "    \n",
    "    \n",
    "    num_loops = 1\n",
    "    for loop in range(num_loops):\n",
    "        print(f'loop : {loop+1}')\n",
    "        triplets_ds.is_inference = True\n",
    "        triplets_ds.compute_triplets(model)\n",
    "        triplets_ds.is_inference = False\n",
    "        \n",
    "        triplets_dl = DataLoader(dataset=triplets_ds,\n",
    "                                 batch_size=4,\n",
    "                                 collate_fn=datasets_ws.collate_fn,\n",
    "                                 pin_memory=(\"cuda\" == \"cuda\"),\n",
    "                                 drop_last=True)\n",
    "        \n",
    "        model = model.train()\n",
    "        \n",
    "        for images, triplets_local_indexes, _ in tqdm(triplets_dl, desc = 'Batch processing'):\n",
    "            \n",
    "            # Flip all triplets or none\n",
    "            # if args.horizontal_flip:\n",
    "            #     images = transforms.RandomHorizontalFlip()(images)\n",
    "            \n",
    "            # Compute features of all images (images contains queries, positives and negatives)\n",
    "            features = model(images.to(\"cuda\"))\n",
    "            loss_triplet = 0\n",
    "            \n",
    "            # if args.criterion == \"triplet\":\n",
    "            triplets_local_indexes = torch.transpose(\n",
    "                triplets_local_indexes.view(4, 10, 3), 1, 0)\n",
    "            for triplets in triplets_local_indexes:\n",
    "                queries_indexes, positives_indexes, negatives_indexes = triplets.T\n",
    "                loss_triplet += criterion_triplet(features[queries_indexes],\n",
    "                                                  features[positives_indexes],\n",
    "                                                  features[negatives_indexes])\n",
    "            # elif args.criterion == 'sare_joint':\n",
    "            #     # sare_joint needs to receive all the negatives at once\n",
    "            #     triplet_index_batch = triplets_local_indexes.view(args.train_batch_size, 10, 3)\n",
    "            #     for batch_triplet_index in triplet_index_batch:\n",
    "            #         q = features[batch_triplet_index[0, 0]].unsqueeze(0)  # obtain query as tensor of shape 1xn_features\n",
    "            #         p = features[batch_triplet_index[0, 1]].unsqueeze(0)  # obtain positive as tensor of shape 1xn_features\n",
    "            #         n = features[batch_triplet_index[:, 2]]               # obtain negatives as tensor of shape 10xn_features\n",
    "            #         loss_triplet += criterion_triplet(q, p, n)\n",
    "            # elif args.criterion == \"sare_ind\":\n",
    "            #     for triplet in triplets_local_indexes:\n",
    "            #         # triplet is a 1-D tensor with the 3 scalars indexes of the triplet\n",
    "            #         q_i, p_i, n_i = triplet\n",
    "            #         loss_triplet += criterion_triplet(features[q_i:q_i+1], features[p_i:p_i+1], features[n_i:n_i+1])\n",
    "            \n",
    "            del features\n",
    "            loss_triplet /= (4 * 10)\n",
    "            \n",
    "            optimizer.zero_grad()\n",
    "            loss_triplet.backward()\n",
    "            optimizer.step()\n",
    "            \n",
    "            # Keep track of all losses by appending them to epoch_losses\n",
    "            batch_loss = loss_triplet.item()\n",
    "            epoch_losses = np.append(epoch_losses, batch_loss)\n",
    "            \n",
    "            del loss_triplet\n",
    "        triplet_losses.append(epoch_losses.mean())\n",
    "        batch_losses.append(batch_loss)\n",
    "        # print(f\"Batch loss: {batch_loss:.4f}\")\n",
    "        # print(f\"Average triplet loss: {epoch_losses.mean():.4f}\")\n",
    "        \n",
    "        \n",
    "            \n",
    "    recalls, recalls_str = test.test(val_ds, model)\n",
    "    rec1.append(recalls[0])\n",
    "    rec5.append(recalls[1])\n",
    "    clear_output()\n",
    "    fig, (ax0, ax1) = plt.subplots(1, 2)\n",
    "    ax0.set_title('Loss')\n",
    "    ax0.plot(batch_losses, label = 'Batch')\n",
    "    ax0.plot(triplet_losses, label = 'Average Triplet loss')\n",
    "    ax0.set_xlabel('Epoch')\n",
    "    ax0.legend()\n",
    "    ax1.set_title('Recall')\n",
    "    ax1.plot(rec1, label = 'R@1')\n",
    "    ax1.plot(rec5, label = 'R@5')\n",
    "    ax1.set_xlabel('Epoch')\n",
    "    ax1.legend()\n",
    "    plt.legend()\n",
    "    plt.show()\n",
    "    is_best = recalls[1] > best_r5\n",
    "    # print(f\"Recalls on val set {val_ds}: {recalls_str}\")"
   ]
  },
  {
   "cell_type": "code",
   "execution_count": 21,
   "id": "046684b8-6d25-49ee-b7ea-448c76ebd51b",
   "metadata": {},
   "outputs": [
    {
     "data": {
      "application/vnd.jupyter.widget-view+json": {
       "model_id": "3a363e2a647b4bce881c291ad655ef16",
       "version_major": 2,
       "version_minor": 0
      },
      "text/plain": [
       "test 1:   0%|          | 0/625 [00:00<?, ?it/s]"
      ]
     },
     "metadata": {},
     "output_type": "display_data"
    },
    {
     "data": {
      "application/vnd.jupyter.widget-view+json": {
       "model_id": "ffdc42ffb9cb4c57928300dcff87c12f",
       "version_major": 2,
       "version_minor": 0
      },
      "text/plain": [
       "test 2:   0%|          | 0/426 [00:00<?, ?it/s]"
      ]
     },
     "metadata": {},
     "output_type": "display_data"
    },
    {
     "data": {
      "application/vnd.jupyter.widget-view+json": {
       "model_id": "a3c98010d5c049aead94186e108ce194",
       "version_major": 2,
       "version_minor": 0
      },
      "text/plain": [
       "Query index:   0%|          | 0/6816 [00:00<?, ?it/s]"
      ]
     },
     "metadata": {},
     "output_type": "display_data"
    }
   ],
   "source": [
    "recalls, recalls_str = test.test( test_ds, model, test_method=\"hard_resize\")"
   ]
  },
  {
   "cell_type": "code",
   "execution_count": null,
   "id": "8cc27601-b4a0-4602-a5cb-1dda7978fdbb",
   "metadata": {},
   "outputs": [],
   "source": []
  },
  {
   "cell_type": "code",
   "execution_count": null,
   "id": "cdf85582-a076-4250-be6e-0cdfc64e6ad8",
   "metadata": {},
   "outputs": [],
   "source": []
  },
  {
   "cell_type": "code",
   "execution_count": 22,
   "id": "62590d44-e4e5-45ce-a100-bdf466c347d1",
   "metadata": {},
   "outputs": [
    {
     "name": "stdout",
     "output_type": "stream",
     "text": [
      "R@1: 84.1, R@5: 92.1\n"
     ]
    }
   ],
   "source": [
    "print(recalls_str)"
   ]
  },
  {
   "cell_type": "code",
   "execution_count": null,
   "id": "45d10be9-485f-4cc4-ad3c-c1a7aa488b28",
   "metadata": {},
   "outputs": [],
   "source": []
  },
  {
   "cell_type": "code",
   "execution_count": null,
   "id": "4e4bf6e0-35b5-48af-a086-d2183da7ca87",
   "metadata": {},
   "outputs": [],
   "source": []
  },
  {
   "cell_type": "code",
   "execution_count": null,
   "id": "19d44f0b-bd41-4e36-b632-48b62db7713d",
   "metadata": {},
   "outputs": [],
   "source": []
  }
 ],
 "metadata": {
  "kernelspec": {
   "display_name": "Python 3 (ipykernel)",
   "language": "python",
   "name": "python3"
  },
  "language_info": {
   "codemirror_mode": {
    "name": "ipython",
    "version": 3
   },
   "file_extension": ".py",
   "mimetype": "text/x-python",
   "name": "python",
   "nbconvert_exporter": "python",
   "pygments_lexer": "ipython3",
   "version": "3.7.11"
  }
 },
 "nbformat": 4,
 "nbformat_minor": 5
}
