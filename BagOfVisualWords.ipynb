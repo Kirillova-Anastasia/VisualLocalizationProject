{
 "cells": [
  {
   "cell_type": "code",
   "execution_count": 2,
   "id": "0f8a33ea-3c89-480d-8e36-6af2db8b817e",
   "metadata": {},
   "outputs": [],
   "source": [
    "import cv2\n",
    "\n",
    "# defining feature extractor that we want to use\n",
    "extractor = cv2.SIFT_create()\n",
    "\n",
    "def features(image, extractor):\n",
    "    keypoints, descriptors = extractor.detectAndCompute(image, None)\n",
    "    return keypoints, descriptors"
   ]
  },
  {
   "cell_type": "code",
   "execution_count": null,
   "id": "6d70e266-784e-4e3b-a572-69d6e55e296f",
   "metadata": {},
   "outputs": [],
   "source": [
    "from sklearn.cluster import KMeans\n",
    "\n",
    "kmeans = KMeans(n_clusters = 800)\n",
    "kmeans.fit(descriptor_list)\n",
    "\n",
    "preprocessed_image = []\n",
    "for image in images:\n",
    "    image = gray(image)\n",
    "    keypoint, descriptor = features(image, extractor)\n",
    "    if (descriptor is not None):\n",
    "        histogram = build_histogram(descriptor, kmeans)\n",
    "        preprocessed_image.append(histogram)"
   ]
  },
  {
   "cell_type": "code",
   "execution_count": 1,
   "id": "f9bf9f4b-bace-4c98-b4cd-6ea7c3d242e0",
   "metadata": {},
   "outputs": [
    {
     "ename": "ImportError",
     "evalue": "dlopen(/Users/anastasia/opt/miniconda3/envs/final_project/lib/python3.7/site-packages/faiss/_swigfaiss.so, 2): Symbol not found: _MKL_Detect_Cpu_Global_Lock\n  Referenced from: /Users/anastasia/opt/miniconda3/envs/final_project/lib/libmkl_intel_lp64.dylib\n  Expected in: flat namespace\n in /Users/anastasia/opt/miniconda3/envs/final_project/lib/libmkl_intel_lp64.dylib",
     "output_type": "error",
     "traceback": [
      "\u001b[0;31m---------------------------------------------------------------------------\u001b[0m",
      "\u001b[0;31mImportError\u001b[0m                               Traceback (most recent call last)",
      "\u001b[0;32m/var/folders/hl/zlr580k10wq6kz04knv5mz5c0000gn/T/ipykernel_70519/4064241326.py\u001b[0m in \u001b[0;36m<module>\u001b[0;34m\u001b[0m\n\u001b[0;32m----> 1\u001b[0;31m \u001b[0;32mimport\u001b[0m \u001b[0mdatasets_ws\u001b[0m\u001b[0;34m\u001b[0m\u001b[0;34m\u001b[0m\u001b[0m\n\u001b[0m",
      "\u001b[0;32m~/Documents/Skoltech/Perception_in_robotics/Final Project/Pittsburgh_NetVlad/datasets_ws.py\u001b[0m in \u001b[0;36m<module>\u001b[0;34m\u001b[0m\n\u001b[1;32m      2\u001b[0m \u001b[0;32mimport\u001b[0m \u001b[0mos\u001b[0m\u001b[0;34m\u001b[0m\u001b[0;34m\u001b[0m\u001b[0m\n\u001b[1;32m      3\u001b[0m \u001b[0;32mimport\u001b[0m \u001b[0mtorch\u001b[0m\u001b[0;34m\u001b[0m\u001b[0;34m\u001b[0m\u001b[0m\n\u001b[0;32m----> 4\u001b[0;31m \u001b[0;32mimport\u001b[0m \u001b[0mfaiss\u001b[0m\u001b[0;34m\u001b[0m\u001b[0;34m\u001b[0m\u001b[0m\n\u001b[0m\u001b[1;32m      5\u001b[0m \u001b[0;32mimport\u001b[0m \u001b[0mlogging\u001b[0m\u001b[0;34m\u001b[0m\u001b[0;34m\u001b[0m\u001b[0m\n\u001b[1;32m      6\u001b[0m \u001b[0;32mimport\u001b[0m \u001b[0mnumpy\u001b[0m \u001b[0;32mas\u001b[0m \u001b[0mnp\u001b[0m\u001b[0;34m\u001b[0m\u001b[0;34m\u001b[0m\u001b[0m\n",
      "\u001b[0;32m~/opt/miniconda3/envs/final_project/lib/python3.7/site-packages/faiss/__init__.py\u001b[0m in \u001b[0;36m<module>\u001b[0;34m\u001b[0m\n\u001b[1;32m     14\u001b[0m \u001b[0;34m\u001b[0m\u001b[0m\n\u001b[1;32m     15\u001b[0m \u001b[0;31m# We import * so that the symbol foo can be accessed as faiss.foo.\u001b[0m\u001b[0;34m\u001b[0m\u001b[0;34m\u001b[0m\u001b[0;34m\u001b[0m\u001b[0m\n\u001b[0;32m---> 16\u001b[0;31m \u001b[0;32mfrom\u001b[0m \u001b[0;34m.\u001b[0m\u001b[0mloader\u001b[0m \u001b[0;32mimport\u001b[0m \u001b[0;34m*\u001b[0m\u001b[0;34m\u001b[0m\u001b[0;34m\u001b[0m\u001b[0m\n\u001b[0m\u001b[1;32m     17\u001b[0m \u001b[0;34m\u001b[0m\u001b[0m\n\u001b[1;32m     18\u001b[0m \u001b[0;31m# additional wrappers\u001b[0m\u001b[0;34m\u001b[0m\u001b[0;34m\u001b[0m\u001b[0;34m\u001b[0m\u001b[0m\n",
      "\u001b[0;32m~/opt/miniconda3/envs/final_project/lib/python3.7/site-packages/faiss/loader.py\u001b[0m in \u001b[0;36m<module>\u001b[0;34m\u001b[0m\n\u001b[1;32m     63\u001b[0m     \u001b[0;31m# we import * so that the symbol X can be accessed as faiss.X\u001b[0m\u001b[0;34m\u001b[0m\u001b[0;34m\u001b[0m\u001b[0;34m\u001b[0m\u001b[0m\n\u001b[1;32m     64\u001b[0m     \u001b[0mlogger\u001b[0m\u001b[0;34m.\u001b[0m\u001b[0minfo\u001b[0m\u001b[0;34m(\u001b[0m\u001b[0;34m\"Loading faiss.\"\u001b[0m\u001b[0;34m)\u001b[0m\u001b[0;34m\u001b[0m\u001b[0;34m\u001b[0m\u001b[0m\n\u001b[0;32m---> 65\u001b[0;31m     \u001b[0;32mfrom\u001b[0m \u001b[0;34m.\u001b[0m\u001b[0mswigfaiss\u001b[0m \u001b[0;32mimport\u001b[0m \u001b[0;34m*\u001b[0m\u001b[0;34m\u001b[0m\u001b[0;34m\u001b[0m\u001b[0m\n\u001b[0m\u001b[1;32m     66\u001b[0m     \u001b[0mlogger\u001b[0m\u001b[0;34m.\u001b[0m\u001b[0minfo\u001b[0m\u001b[0;34m(\u001b[0m\u001b[0;34m\"Successfully loaded faiss.\"\u001b[0m\u001b[0;34m)\u001b[0m\u001b[0;34m\u001b[0m\u001b[0;34m\u001b[0m\u001b[0m\n",
      "\u001b[0;32m~/opt/miniconda3/envs/final_project/lib/python3.7/site-packages/faiss/swigfaiss.py\u001b[0m in \u001b[0;36m<module>\u001b[0;34m\u001b[0m\n\u001b[1;32m     11\u001b[0m \u001b[0;31m# Import the low-level C/C++ module\u001b[0m\u001b[0;34m\u001b[0m\u001b[0;34m\u001b[0m\u001b[0;34m\u001b[0m\u001b[0m\n\u001b[1;32m     12\u001b[0m \u001b[0;32mif\u001b[0m \u001b[0m__package__\u001b[0m \u001b[0;32mor\u001b[0m \u001b[0;34m\".\"\u001b[0m \u001b[0;32min\u001b[0m \u001b[0m__name__\u001b[0m\u001b[0;34m:\u001b[0m\u001b[0;34m\u001b[0m\u001b[0;34m\u001b[0m\u001b[0m\n\u001b[0;32m---> 13\u001b[0;31m     \u001b[0;32mfrom\u001b[0m \u001b[0;34m.\u001b[0m \u001b[0;32mimport\u001b[0m \u001b[0m_swigfaiss\u001b[0m\u001b[0;34m\u001b[0m\u001b[0;34m\u001b[0m\u001b[0m\n\u001b[0m\u001b[1;32m     14\u001b[0m \u001b[0;32melse\u001b[0m\u001b[0;34m:\u001b[0m\u001b[0;34m\u001b[0m\u001b[0;34m\u001b[0m\u001b[0m\n\u001b[1;32m     15\u001b[0m     \u001b[0;32mimport\u001b[0m \u001b[0m_swigfaiss\u001b[0m\u001b[0;34m\u001b[0m\u001b[0;34m\u001b[0m\u001b[0m\n",
      "\u001b[0;31mImportError\u001b[0m: dlopen(/Users/anastasia/opt/miniconda3/envs/final_project/lib/python3.7/site-packages/faiss/_swigfaiss.so, 2): Symbol not found: _MKL_Detect_Cpu_Global_Lock\n  Referenced from: /Users/anastasia/opt/miniconda3/envs/final_project/lib/libmkl_intel_lp64.dylib\n  Expected in: flat namespace\n in /Users/anastasia/opt/miniconda3/envs/final_project/lib/libmkl_intel_lp64.dylib"
     ]
    }
   ],
   "source": [
    "import datasets_ws"
   ]
  },
  {
   "cell_type": "code",
   "execution_count": 3,
   "id": "4edb782c-59b6-407a-adaf-f3f66ceb8d3b",
   "metadata": {},
   "outputs": [
    {
     "ename": "NameError",
     "evalue": "name 'datasets_ws' is not defined",
     "output_type": "error",
     "traceback": [
      "\u001b[0;31m---------------------------------------------------------------------------\u001b[0m",
      "\u001b[0;31mNameError\u001b[0m                                 Traceback (most recent call last)",
      "\u001b[0;32m<ipython-input-3-5a180efd4df9>\u001b[0m in \u001b[0;36m<module>\u001b[0;34m\u001b[0m\n\u001b[0;32m----> 1\u001b[0;31m \u001b[0mtriplets_ds\u001b[0m \u001b[0;34m=\u001b[0m \u001b[0mdatasets_ws\u001b[0m\u001b[0;34m.\u001b[0m\u001b[0mTripletsDataset\u001b[0m\u001b[0;34m(\u001b[0m\u001b[0;34m\"D:/datasets/\"\u001b[0m\u001b[0;34m,\u001b[0m \u001b[0;34m'pitts30k/'\u001b[0m\u001b[0;34m,\u001b[0m \u001b[0;34m\"train\"\u001b[0m\u001b[0;34m,\u001b[0m \u001b[0mnegs_num_per_query\u001b[0m \u001b[0;34m=\u001b[0m \u001b[0;36m10\u001b[0m\u001b[0;34m)\u001b[0m\u001b[0;34m\u001b[0m\u001b[0;34m\u001b[0m\u001b[0m\n\u001b[0m\u001b[1;32m      2\u001b[0m \u001b[0mval_ds\u001b[0m \u001b[0;34m=\u001b[0m \u001b[0mdatasets_ws\u001b[0m\u001b[0;34m.\u001b[0m\u001b[0mBaseDataset\u001b[0m\u001b[0;34m(\u001b[0m\u001b[0;34m\"D:/datasets/\"\u001b[0m\u001b[0;34m,\u001b[0m \u001b[0;34m'pitts30k/'\u001b[0m\u001b[0;34m,\u001b[0m \u001b[0;34m\"val\"\u001b[0m\u001b[0;34m)\u001b[0m\u001b[0;34m\u001b[0m\u001b[0;34m\u001b[0m\u001b[0m\n\u001b[1;32m      3\u001b[0m \u001b[0mtest_ds\u001b[0m \u001b[0;34m=\u001b[0m \u001b[0mdatasets_ws\u001b[0m\u001b[0;34m.\u001b[0m\u001b[0mBaseDataset\u001b[0m\u001b[0;34m(\u001b[0m\u001b[0;34m\"D:/datasets/\"\u001b[0m\u001b[0;34m,\u001b[0m \u001b[0;34m'pitts30k/'\u001b[0m\u001b[0;34m,\u001b[0m \u001b[0;34m\"test\"\u001b[0m\u001b[0;34m)\u001b[0m\u001b[0;34m\u001b[0m\u001b[0;34m\u001b[0m\u001b[0m\n",
      "\u001b[0;31mNameError\u001b[0m: name 'datasets_ws' is not defined"
     ]
    }
   ],
   "source": [
    "triplets_ds = datasets_ws.TripletsDataset(\"D:/datasets/\", 'pitts30k/', \"train\", negs_num_per_query = 10)\n",
    "val_ds = datasets_ws.BaseDataset(\"D:/datasets/\", 'pitts30k/', \"val\")\n",
    "test_ds = datasets_ws.BaseDataset(\"D:/datasets/\", 'pitts30k/', \"test\")"
   ]
  },
  {
   "cell_type": "code",
   "execution_count": 2,
   "id": "32dc3433-b2bb-429c-9da9-dbd5d46a51bd",
   "metadata": {},
   "outputs": [],
   "source": [
    "from os import listdir"
   ]
  },
  {
   "cell_type": "code",
   "execution_count": 15,
   "id": "2324437b",
   "metadata": {},
   "outputs": [
    {
     "data": {
      "text/plain": [
       "['docker-compose.yaml',\n",
       " '.DS_Store',\n",
       " 'requirements.yaml',\n",
       " 'pittsburgh.py',\n",
       " 'Dockerfile',\n",
       " '__pycache__',\n",
       " 'test.py',\n",
       " 'datasets_ws.py',\n",
       " 'Pittsburgh_NetVLAD.ipynb',\n",
       " '.ipynb_checkpoints',\n",
       " 'BagOfVisualWords.ipynb',\n",
       " 'pitts30k_test.mat',\n",
       " 'small tests.ipynb']"
      ]
     },
     "execution_count": 15,
     "metadata": {},
     "output_type": "execute_result"
    }
   ],
   "source": [
    "listdir('')"
   ]
  },
  {
   "cell_type": "code",
   "execution_count": null,
   "id": "8c10e7ae",
   "metadata": {},
   "outputs": [],
   "source": []
  }
 ],
 "metadata": {
  "kernelspec": {
   "display_name": "Python 3 (ipykernel)",
   "language": "python",
   "name": "python3"
  },
  "language_info": {
   "codemirror_mode": {
    "name": "ipython",
    "version": 3
   },
   "file_extension": ".py",
   "mimetype": "text/x-python",
   "name": "python",
   "nbconvert_exporter": "python",
   "pygments_lexer": "ipython3",
   "version": "3.7.16"
  }
 },
 "nbformat": 4,
 "nbformat_minor": 5
}
